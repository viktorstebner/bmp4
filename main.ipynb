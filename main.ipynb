{
 "cells": [
  {
   "cell_type": "code",
   "execution_count": null,
   "metadata": {},
   "outputs": [],
   "source": [
    "print(\"------------------------------------\")\n",
    "print(\"||--------------------------------||\")\n",
    "print(\"|| Super Cool Junk Repurpose Tool ||\")\n",
    "print(\"||--------------------------------||\")\n",
    "print(\"------------------------------------\")\n",
    "print(\"\\nType \\\"start\\\" to start the assistant or type \\\"help\\\" to see all available commands\\n\")\n",
    "isExitRequested = False\n",
    "while isExitRequested == False:\n",
    "    command = input(\">\")\n",
    "    if command == \"exit\":\n",
    "        isExitRequested = True\n",
    "        continue\n",
    "    if command == \"help\":\n",
    "        print(\"---------------------------\")\n",
    "        print(\"List of available commands:\\n\")\n",
    "        print(\"exit - close the program\")\n",
    "        print(\"help - display this list\")\n",
    "        continue\n",
    "    print(\"Command not recognized, type \\\"help\\\" to see available commands\")\n",
    "print(\"end\")\n",
    "\n",
    "#do you want to submit building instructions, or do you want to get suggestions as to what to do with the items you might have?\n",
    "#(scan all recipes for their ingredients)\n",
    "#(for every ingredient: ask)\n",
    "#do you have nails?\n",
    "#(if yes) how many nails do you have?\n"
   ]
  }
 ],
 "metadata": {
  "language_info": {
   "name": "python"
  }
 },
 "nbformat": 4,
 "nbformat_minor": 5
}
