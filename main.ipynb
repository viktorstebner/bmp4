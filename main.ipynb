{
 "cells": [
  {
   "cell_type": "code",
   "execution_count": null,
   "id": "79761bb6",
   "metadata": {},
   "outputs": [
    {
     "ename": "",
     "evalue": "",
     "output_type": "error",
     "traceback": [
      "\u001b[1;31mFailed to start the Kernel. \n",
      "Failed to start the Kernel 'Python 3.10.1 64-bit'. \n",
      "View Jupyter <a href='command:jupyter.viewOutput'>log</a> for further details. spawn C:\\Users\\KingMechanics\\AppData\\Local\\Programs\\Python\\Python310\\python.exe ENOENT"
     ]
    }
   ],
   "source": [
    "import module\n",
    "\n",
    "# print(\"------------------------------------\")\n",
    "# print(\"||--------------------------------||\")\n",
    "# print(\"|| Super Cool Junk Repurpose Tool ||\")\n",
    "# print(\"||--------------------------------||\")\n",
    "# print(\"------------------------------------\")\n",
    "\n",
    "userinventory = {}\n",
    "for module.BOM in module.boms:\n",
    "            for module.Ingredient in module.BOM.ingredients:\n",
    "                userinventory[module.Ingredient.name] = 0\n",
    "\n",
    "user = input(\"Hi, what's your name?\\n>My name is \")\n",
    "print(\"\\nNice to see you \" + str(user) + \"!\\n\")\n",
    "\n",
    "print(\"Please answer each of the following questions with a number.\")\n",
    "print(\"If you don't have any of the specified items, just enter 0\\n\")\n",
    "for item in userinventory:\n",
    "    print(\"How many \" + str(item) + \" do you have?\")\n",
    "    quantity = input(\">I have \")\n",
    "    userinventory[item] = quantity\n",
    "\n",
    "print(\"--------------------------------\")\n",
    "result = \"With these items, you can build:\\n\\n\"\n",
    "for bom in module.boms:\n",
    "    result += module.match(bom, userinventory)\n",
    "print(result + \"You can type \\\"help\\\" to see all available commands!\")\n",
    "\n",
    "isExitRequested = False\n",
    "while isExitRequested == False:\n",
    "    command = input(\">\")\n",
    "    if command == \"exit\":\n",
    "        isExitRequested = True\n",
    "        continue\n",
    "    if command == \"help\":\n",
    "        print(\"---------------------------\")\n",
    "        print(\"List of available commands:\\n\")\n",
    "        print(\"exit - close the program\")\n",
    "        print(\"help - returns this list\")\n",
    "        print(\"list - returns a list of all available instructions\")\n",
    "        print(\"show [ITEM] - returns instructions on how to build [ITEM]\")\n",
    "        continue\n",
    "    if command == \"list\":\n",
    "        for bom in module.boms:\n",
    "            print(bom.name)\n",
    "        continue\n",
    "    if command.split(\" \")[0] == \"show\":\n",
    "        nomatch = True\n",
    "        for bom in module.boms:\n",
    "            if bom.name == command.split(\" \")[1]:\n",
    "                nomatch = False\n",
    "                bom.printInstructions()\n",
    "        if nomatch:\n",
    "            print(\"No instructions found for: \" + command.split(\" \")[1])\n",
    "        continue\n",
    "    \n",
    "    print(\"Command not recognized, type \\\"help\\\" to see available commands\")\n",
    "print(\"\\nGoodbye, \" + str(user) + \"!\")"
   ]
  }
 ],
 "metadata": {
  "interpreter": {
   "hash": "9f42f9674e15072df2a42513fb79ab2cc6d1caac36d54640502aa1ac71a126b5"
  },
  "kernelspec": {
   "display_name": "Python 3.10.1 64-bit",
   "language": "python",
   "name": "python3"
  },
  "language_info": {
   "codemirror_mode": {
    "name": "ipython",
    "version": 3
   },
   "file_extension": ".py",
   "mimetype": "text/x-python",
   "name": "python",
   "nbconvert_exporter": "python",
   "pygments_lexer": "ipython3",
   "version": "3.10.1"
  }
 },
 "nbformat": 4,
 "nbformat_minor": 5
}
