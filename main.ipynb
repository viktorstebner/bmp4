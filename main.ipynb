{
 "cells": [
  {
   "cell_type": "code",
   "execution_count": null,
   "id": "79761bb6",
   "metadata": {},
   "outputs": [
    {
     "ename": "",
     "evalue": "",
     "output_type": "error",
     "traceback": [
      "\u001b[1;31mFailed to start the Kernel. \n",
      "Failed to start the Kernel 'Python 3.10.1 64-bit'. \n",
      "View Jupyter <a href='command:jupyter.viewOutput'>log</a> for further details. spawn C:\\Users\\KingMechanics\\AppData\\Local\\Programs\\Python\\Python310\\python.exe ENOENT"
     ]
    }
   ],
   "source": [
    "print(\"------------------------------------\")\n",
    "print(\"||--------------------------------||\")\n",
    "print(\"|| Super Cool Junk Repurpose Tool ||\")\n",
    "print(\"||--------------------------------||\")\n",
    "print(\"------------------------------------\")\n",
    "print(\"\\nType \\\"start\\\" to start the assistant or type \\\"help\\\" to see all available commands\\n\")\n",
    "isExitRequested = False\n",
    "while isExitRequested == False:\n",
    "    command = input(\">\")\n",
    "    if command == \"exit\":\n",
    "        isExitRequested = True\n",
    "        continue\n",
    "    if command == \"help\":\n",
    "        print(\"---------------------------\")\n",
    "        print(\"List of available commands:\\n\")\n",
    "        print(\"exit - close the program\")\n",
    "        print(\"help - display this list\")\n",
    "        continue\n",
    "    print(\"Command not recognized, type \\\"help\\\" to see available commands\")\n",
    "print(\"end\")\n",
    "\n",
    "#do you want to submit building instructions, or do you want to get suggestions as to what to do with the items you might have?\n",
    "#(scan all recipes for their ingredients)\n",
    "#(for every ingredient: ask)\n",
    "#do you have nails?\n",
    "#(if yes) how many nails do you have?\n"
   ]
  }
 ],
 "metadata": {
  "interpreter": {
   "hash": "9f42f9674e15072df2a42513fb79ab2cc6d1caac36d54640502aa1ac71a126b5"
  },
  "kernelspec": {
   "display_name": "Python 3.10.1 64-bit",
   "language": "python",
   "name": "python3"
  },
  "language_info": {
   "codemirror_mode": {
    "name": "ipython",
    "version": 3
   },
   "file_extension": ".py",
   "mimetype": "text/x-python",
   "name": "python",
   "nbconvert_exporter": "python",
   "pygments_lexer": "ipython3",
   "version": "3.10.1"
  }
 },
 "nbformat": 4,
 "nbformat_minor": 5
}
